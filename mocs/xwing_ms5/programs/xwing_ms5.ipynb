{
 "cells": [
  {
   "cell_type": "markdown",
   "id": "73ef01e5",
   "metadata": {},
   "source": [
    "\n",
    "<p align=\"center\">\n",
    " <img width=\"100%\" src=\"../../../multimedia/mindstorms_51515_logo.png\">\n",
    "</p>\n",
    "\n",
    "# `xwing_ms5`\n",
    "Python program to control the X-Wing MS5 robot.\n",
    "The ship will angle along the z-axis depending on the hub's orientation.\n",
    "\n",
    "It also allows switching [between cruise and attack mode](https://scifi.stackexchange.com/questions/6001/why-do-x-wings-change-wing-configuration). \n",
    "While in the latter, the X-Wing can fire its laser cannons.\n",
    "\n",
    "(I'm still editing a video showcasing the functionality. On the meantime, \n",
    "scroll down for a couple of GIFS that should give you a good idea of what to \n",
    "expect).\n",
    "\n",
    "# Required robot\n",
    "* X-Wing MS5 (you can find the [instructions for building it here](https://arturomoncadatorres.com/xwing-ms5/))\n",
    "\n",
    "<img src=\"../multimedia/xwing_ms5.png\" width=\"50%\" align=\"center\">\n",
    "\n",
    "# Source code\n",
    "You can find the code in the accompanying [`.py` file](https://github.com/arturomoncadatorres/lego-mindstorms/blob/main/mocs/aat_ms5/programs/xwing_ms5.py). To get it running, simply copy and paste it in a new Mindstorms project.\n",
    "\n",
    "# Imports"
   ]
  },
  {
   "cell_type": "code",
   "execution_count": null,
   "id": "234770bf",
   "metadata": {},
   "outputs": [],
   "source": [
    "from mindstorms import Motor, MotorPair, ColorSensor, DistanceSensor, App\n",
    "from mindstorms.control import wait_for_seconds, wait_until, Timer\n",
    "from mindstorms.operator import greater_than, greater_than_or_equal_to, less_than, less_than_or_equal_to, equal_to, not_equal_to\n",
    "import math\n",
    "\n",
    "# Since we want to play sounds, we need to do everything through hub.\n",
    "import hub"
   ]
  },
  {
   "cell_type": "code",
   "execution_count": null,
   "id": "6aec715f",
   "metadata": {
    "lines_to_next_cell": 2
   },
   "outputs": [],
   "source": [
    "print(\"-\"*15 + \" Execution started \" + \"-\"*15 + \"\\n\")"
   ]
  },
  {
   "cell_type": "markdown",
   "id": "e489a383",
   "metadata": {},
   "source": [
    "## Initialize motors"
   ]
  },
  {
   "cell_type": "code",
   "execution_count": null,
   "id": "d4379699",
   "metadata": {
    "lines_to_next_cell": 2
   },
   "outputs": [],
   "source": [
    "# Motor for opening/closing the S-foils (i.e., wings).\n",
    "motor_wings = Motor('A') \n",
    "\n",
    "# Motors for tilting the ship\n",
    "# Due to the weight of the ship, we need two motors.\n",
    "motor_b = hub.port.B.motor\n",
    "motor_d = hub.port.D.motor\n",
    "motors_base = motor_b.pair(motor_d)"
   ]
  },
  {
   "cell_type": "markdown",
   "id": "4816866f",
   "metadata": {},
   "source": [
    "Notice we initialize the motor to 350 (and not 0) to\n",
    "make sure that there's a little bit of tension as the wings\n",
    "are closed. Otherwise, the wings are very loose."
   ]
  },
  {
   "cell_type": "code",
   "execution_count": null,
   "id": "a85cbb6e",
   "metadata": {
    "lines_to_next_cell": 2
   },
   "outputs": [],
   "source": [
    "print(\"Initializing motors to position 0...\")\n",
    "motor_wings.run_to_position(350, direction='shortest path', speed=100)\n",
    "motors_base.preset(0, 0)\n",
    "print(\"DONE!\")"
   ]
  },
  {
   "cell_type": "markdown",
   "id": "c4648977",
   "metadata": {},
   "source": [
    "## Initialize conditions\n",
    "`WINGS_CLOSED` will keep track of the state of the wings."
   ]
  },
  {
   "cell_type": "code",
   "execution_count": null,
   "id": "d1301cac",
   "metadata": {},
   "outputs": [],
   "source": [
    "print(\"Initializing conditions...\")\n",
    "WINGS_CLOSED = True"
   ]
  },
  {
   "cell_type": "markdown",
   "id": "f555a2c4",
   "metadata": {},
   "source": [
    "In order to avoid sudden changes in the angle, we will use a simple\n",
    "[moving average filter](https://en.wikipedia.org/wiki/Moving_average).\n",
    "We will usse a `WINDOW_SIZE` of 3 samples. \n",
    "\n",
    "I experimented with different sizes and this one was acceptable in making \n",
    "the movement smoother without making the response sluggish. \n",
    "I think up to 7 or 8 is ok, a window size of more than 10 makes it very slow."
   ]
  },
  {
   "cell_type": "code",
   "execution_count": null,
   "id": "772de3fa",
   "metadata": {
    "lines_to_next_cell": 2
   },
   "outputs": [],
   "source": [
    "WINDOW_SIZE = 3\n",
    "\n",
    "angleB_array = [0.001] * WINDOW_SIZE\n",
    "angleD_array = [0.001] * WINDOW_SIZE"
   ]
  },
  {
   "cell_type": "markdown",
   "id": "d86a30d6",
   "metadata": {},
   "source": [
    "We will create some animation frames for displaying the laser on the hub.\n",
    "This is pretty much identical to what I used for the\n",
    "[AAT MS5](https://github.com/arturomoncadatorres/lego-mindstorms/tree/main/mocs/aat_ms5) robot\n",
    "(except it is flipped from top to bottom due to the orientation of the hub)."
   ]
  },
  {
   "cell_type": "code",
   "execution_count": null,
   "id": "ee58d2df",
   "metadata": {
    "lines_to_next_cell": 2
   },
   "outputs": [],
   "source": [
    "# Define animation frames for the laser cannon.\n",
    "frames = ['00000:00000:00000:00000:00000',\n",
    "'00000:00000:00000:00000:00500',\n",
    "'00000:00000:00000:00500:00700',\n",
    "'00000:00000:00500:00700:00900',\n",
    "'00000:00500:00700:00900:00000',\n",
    "'00500:00700:00900:00000:00000',\n",
    "'00700:00900:00000:00000:00000',\n",
    "'00900:00000:00000:00000:00000',\n",
    "'00000:00000:00000:00000:00000']\n",
    "\n",
    "n_frames = len(frames)\n",
    "t_pause = 0.05 # Pause between frames (in seconds)\n",
    "\n",
    "print(\"DONE!\")"
   ]
  },
  {
   "cell_type": "markdown",
   "id": "57a00a85",
   "metadata": {},
   "source": [
    "## Putting the X-Wing MS5 in action!\n",
    "\n",
    "The way the robot works is as follows:\n",
    "* Tilting the hub left to right will make the ship follow accordingly.\n",
    "\n",
    "<p align=\"center\">\n",
    " <img width=\"100%\" src=\"../multimedia/tilt.gif\">\n",
    "</p>\n",
    "\n",
    "* Pushing the right button locks the S-foils (i.e., the wings) from cruise \n",
    "mode (closed) to attack position (open) and viceversa. \n",
    "* While in attack position, pushing the left button will shoot the laser \n",
    "cannons, showing an animation on the hub. The cannons cannot be fired with \n",
    "the S-foils closed.\n",
    "\n",
    "<p align=\"center\">\n",
    " <img width=\"100%\" src=\"../multimedia/sfoil.gif\">\n",
    "</p>\n",
    "\n",
    "The program will run indefinitely until stopped manually in the \n",
    "LEGO MINDSTORMS app."
   ]
  },
  {
   "cell_type": "code",
   "execution_count": null,
   "id": "4ee75ad2",
   "metadata": {},
   "outputs": [],
   "source": [
    "while True:\n",
    "\n",
    "    if hub.button.right.was_pressed():\n",
    "        print(\"Right button was pressed\")\n",
    "\n",
    "        # If the wings were closed...\n",
    "        if WINGS_CLOSED == True:\n",
    "            # ...open them.\n",
    "            motor_wings.run_to_position(20, direction='shortest path', speed=2)\n",
    "            WINGS_CLOSED = False\n",
    "            print(\"Wings are open!\")\n",
    "\n",
    "        # If the wings were opened...\n",
    "        elif WINGS_CLOSED == False:\n",
    "            # ...close them.\n",
    "            motor_wings.run_to_position(350, direction='shortest path', speed=2)\n",
    "            WINGS_CLOSED = True\n",
    "            print(\"Wings are closed!\")\n",
    "\n",
    "\n",
    "    if hub.button.left.was_pressed():\n",
    "        print(\"Left button was pressed\")\n",
    "\n",
    "        # If the wings were closed...\n",
    "        if WINGS_CLOSED == True:\n",
    "            print(\"Can't shoot with S-foils closed!\")\n",
    "\n",
    "        # If the wings were opened...\n",
    "        elif WINGS_CLOSED == False:\n",
    "            print(\"Laser cannons fired!\")\n",
    "\n",
    "            # ...play sound...\n",
    "            hub.sound.play(\"/extra_files/Laser\")\n",
    "\n",
    "            # ...and display laser cannon animation.\n",
    "            for ii in range(0, n_frames):\n",
    "                img = hub.Image(frames[ii])\n",
    "                hub.display.show(img)\n",
    "                wait_for_seconds(t_pause)\n",
    "            \n",
    "    \n",
    "    yaw, pitch, roll = hub.motion.yaw_pitch_roll()\n",
    "\n",
    "    # We will map the roll from -90 to 90 to a defined range\n",
    "    # by dividing it by a factor.\n",
    "    max_angle = 30\n",
    "    angle_factor = 90/max_angle\n",
    "    angle = roll/angle_factor\n",
    "    \n",
    "    # Notice how we limit the range of the motors movement\n",
    "    # between -max_angle and max_angle (otherwise the X-Wing tilts too much)\n",
    "    if angle >= 0:\n",
    "        angleB = max([-angle, -max_angle])\n",
    "        angleD = min([angle, max_angle])\n",
    "    if angle < 0:\n",
    "        angleB = min([-angle, max_angle])\n",
    "        angleD = max([angle, -max_angle])\n",
    "    print(\"Roll = \" + str(roll) + \"; max angle = \" + str(max_angle) + \"; angle = \" + str(angle) + \"; angleB = \" + str(angleB) + \"; angleD = \" + str(angleD))\n",
    "\n",
    "    # Update the angle arrays by appending the new sample at the end of\n",
    "    # the array while popping the first sample.\n",
    "    angleB_array.append(angleB)\n",
    "    angleB_array.pop(0)\n",
    "\n",
    "    angleD_array.append(angleD)\n",
    "    angleD_array.pop(0)\n",
    "\n",
    "    # Get the mean of the current window and use it for setting the\n",
    "    # motor positions.\n",
    "    angleB_mean = sum(angleB_array)/WINDOW_SIZE\n",
    "    angleD_mean = sum(angleD_array)/WINDOW_SIZE\n",
    "\n",
    "    print(\"Mean of angleB = \" + str(angleB_mean) + \"; mean of angleD = \" + str(angleD_mean))\n",
    "    motors_base.run_to_position(angleB_mean, angleD_mean, speed=10, max_power=100, stop=2)\n",
    "    \n",
    "    \n",
    "# We will never get here.\n",
    "print(\"-\"*15 + \" Execution ended \" + \"-\"*15 + \"\\n\")"
   ]
  }
 ],
 "metadata": {
  "jupytext": {
   "formats": "ipynb,py:percent"
  },
  "kernelspec": {
   "display_name": "Python 3 (ipykernel)",
   "language": "python",
   "name": "python3"
  },
  "language_info": {
   "codemirror_mode": {
    "name": "ipython",
    "version": 3
   },
   "file_extension": ".py",
   "mimetype": "text/x-python",
   "name": "python",
   "nbconvert_exporter": "python",
   "pygments_lexer": "ipython3",
   "version": "3.8.16"
  }
 },
 "nbformat": 4,
 "nbformat_minor": 5
}
